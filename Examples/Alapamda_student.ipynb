{
 "cells": [
  {
   "cell_type": "code",
   "execution_count": 1,
   "metadata": {
    "collapsed": false
   },
   "outputs": [
    {
     "name": "stderr",
     "output_type": "stream",
     "text": [
      "Using Theano backend.\n",
      "WARNING (theano.sandbox.cuda): The cuda backend is deprecated and will be removed in the next release (v0.10).  Please switch to the gpuarray backend. You can get more information about how to switch at this URL:\n",
      " https://github.com/Theano/Theano/wiki/Converting-to-the-new-gpu-back-end%28gpuarray%29\n",
      "\n",
      "WARNING (theano.sandbox.cuda): CUDA is installed, but device gpu is not available  (error: Unable to get the number of gpus available: unknown error)\n"
     ]
    }
   ],
   "source": [
    "#from gensim.models import KeyedVectors\n",
    "\n",
    "from keras.layers.core import Dense, Dropout, SpatialDropout1D\n",
    "from keras.layers.convolutional import Conv1D\n",
    "from keras.layers.embeddings import Embedding\n",
    "from keras.layers.pooling import GlobalMaxPooling1D\n",
    "from keras.models import Sequential\n",
    "from keras.preprocessing.sequence import pad_sequences\n",
    "from keras.utils import np_utils\n",
    "import collections\n",
    "import matplotlib.pyplot as plt\n",
    "import nltk\n",
    "import numpy as np\n",
    "from sklearn.model_selection import train_test_split\n",
    "\n",
    "np.random.seed(42)"
   ]
  },
  {
   "cell_type": "code",
   "execution_count": 101,
   "metadata": {
    "collapsed": true
   },
   "outputs": [],
   "source": [
    "import pickle\n",
    "data = pickle.load(open(\"./Dataset/LDC2015E29/data.p\",\"rb\"))\n",
    "labels = pickle.load(open(\"./Dataset/LDC2015E29/labels.p\",\"rb\"))"
   ]
  },
  {
   "cell_type": "code",
   "execution_count": 102,
   "metadata": {
    "collapsed": true
   },
   "outputs": [],
   "source": [
    "for doc in data:\n",
    "    for i in range(len(doc)):\n",
    "        doc[i] = doc[i].lower()"
   ]
  },
  {
   "cell_type": "code",
   "execution_count": 103,
   "metadata": {
    "collapsed": true
   },
   "outputs": [],
   "source": [
    "x = data\n",
    "y = [[item[2] for item in label_docs] for label_docs in labels]"
   ]
  },
  {
   "cell_type": "code",
   "execution_count": 104,
   "metadata": {
    "collapsed": false
   },
   "outputs": [
    {
     "name": "stdout",
     "output_type": "stream",
     "text": [
      "death --> execute\n",
      "death --> execute\n",
      "prosecuted --> trialhearing\n",
      "sentenced --> sentence\n",
      "death --> execute\n",
      "death --> execute\n",
      "charged --> chargeindict\n",
      "said --> contact\n",
      "trial --> trialhearing\n",
      "arrested --> arrestjail\n",
      "charged --> chargeindict\n",
      "trial --> trialhearing\n"
     ]
    }
   ],
   "source": [
    "i = 69\n",
    "for a,b in zip(x[i],y[i]):\n",
    "    if b != 'NONE':\n",
    "        print(a,\"-->\",b)"
   ]
  },
  {
   "cell_type": "code",
   "execution_count": 105,
   "metadata": {
    "collapsed": true
   },
   "outputs": [],
   "source": [
    "counter = collections.Counter()\n",
    "for doc in x:\n",
    "    for word in doc:\n",
    "        counter[word]+=1\n",
    "#6113 words"
   ]
  },
  {
   "cell_type": "code",
   "execution_count": 106,
   "metadata": {
    "collapsed": false
   },
   "outputs": [
    {
     "name": "stdout",
     "output_type": "stream",
     "text": [
      "{'NONE': 0, 'transferownership': 1, 'arrestjail': 2, 'releaseparole': 3, 'attack': 4, 'transportperson': 5, 'transportartifact': 6, 'trialhearing': 7, 'extradite': 8, 'broadcast': 9, 'convict': 10, 'transaction': 11, 'contact': 12, 'acquit': 13, 'die': 14, 'injure': 15, 'divorce': 16, 'chargeindict': 17, 'endposition': 18, 'pardon': 19, 'correspondence': 20, 'sentence': 21, 'appeal': 22, 'demonstrate': 23, 'meet': 24, 'transfermoney': 25, 'elect': 26, 'startposition': 27, 'startorg': 28, 'sue': 29, 'declarebankruptcy': 30, 'marry': 31, 'nominate': 32, 'fine': 33, 'endorg': 34, 'execute': 35, 'beborn': 36, 'mergeorg': 37, 'artifact': 38}\n"
     ]
    }
   ],
   "source": [
    "label2index = {}\n",
    "for labels in y:\n",
    "    for lab in labels:\n",
    "        if lab not in label2index:\n",
    "            label2index[lab] = len(label2index)\n",
    "print(label2index)\n",
    "for label_of_doc in y:\n",
    "    for i in range(len(label_of_doc)):\n",
    "        label_of_doc[i] = label2index[label_of_doc[i]]"
   ]
  },
  {
   "cell_type": "code",
   "execution_count": 107,
   "metadata": {
    "collapsed": false
   },
   "outputs": [
    {
     "name": "stdout",
     "output_type": "stream",
     "text": [
      "39\n"
     ]
    }
   ],
   "source": [
    "print(len(label2index))"
   ]
  },
  {
   "cell_type": "code",
   "execution_count": 108,
   "metadata": {
    "collapsed": true
   },
   "outputs": [],
   "source": [
    "WINDOW_SIZE = 5\n",
    "VOCAB_SIZE = 7000\n",
    "EMBED_SIZE = 300\n",
    "NUM_FILTERS = 256\n",
    "NUM_WORDS = 3\n",
    "BATCH_SIZE = 64\n",
    "NUM_EPOCHS = 20\n",
    "WORD2VEC_MODEL = \"./Dataset/Glove-vectorsr/glove.6B.300d.txt\""
   ]
  },
  {
   "cell_type": "code",
   "execution_count": 109,
   "metadata": {
    "collapsed": true
   },
   "outputs": [],
   "source": [
    "word2emb = {}\n",
    "fglove = open(WORD2VEC_MODEL,\"r\")\n",
    "for line in fglove:\n",
    "    cols = line.strip().split()\n",
    "    word = cols[0]\n",
    "    embedding = np.array(cols[1:],dtype=\"float32\")\n",
    "    word2emb[word]=embedding\n",
    "fglove.close()"
   ]
  },
  {
   "cell_type": "code",
   "execution_count": 110,
   "metadata": {
    "collapsed": true
   },
   "outputs": [],
   "source": [
    "word2index = collections.defaultdict(int)\n",
    "for wid,word in enumerate(counter.most_common(VOCAB_SIZE)):\n",
    "    word2index[word[0]] = wid+1\n",
    "vocab_size = len(word2index)+1\n",
    "index2word = {v : k for k,v in word2index.items()}\n"
   ]
  },
  {
   "cell_type": "code",
   "execution_count": 111,
   "metadata": {
    "collapsed": true
   },
   "outputs": [],
   "source": [
    "embeddings = np.zeros((vocab_size,EMBED_SIZE))\n",
    "for word,index in word2index.items():\n",
    "    try:\n",
    "        embeddings[index,:] = word2emb[word]\n",
    "    except KeyError:\n",
    "        pass"
   ]
  },
  {
   "cell_type": "code",
   "execution_count": 112,
   "metadata": {
    "collapsed": true
   },
   "outputs": [],
   "source": [
    "whole_data = []\n",
    "whole_labels = []\n",
    "maxlen = 0\n",
    "for doc,label in zip(x,y):\n",
    "    for i in range(len(doc)):\n",
    "        lower = max(0,i-WINDOW_SIZE)\n",
    "        upper = i + WINDOW_SIZE\n",
    "        text = doc[lower:upper]\n",
    "        maxlen = max(maxlen,len(text))\n",
    "        for j in range(len(text)):\n",
    "            text[j] = word2index[text[j]]\n",
    "        whole_data.append(text)\n",
    "        whole_labels.append(label[i])\n",
    "        \n",
    "        \n",
    "        \n",
    "        "
   ]
  },
  {
   "cell_type": "code",
   "execution_count": 113,
   "metadata": {
    "collapsed": false
   },
   "outputs": [
    {
     "data": {
      "text/plain": [
       "[[2841, 1320, 4, 70, 676],\n",
       " [2841, 1320, 4, 70, 676, 6],\n",
       " [2841, 1320, 4, 70, 676, 6, 2842],\n",
       " [2841, 1320, 4, 70, 676, 6, 2842, 1034],\n",
       " [2841, 1320, 4, 70, 676, 6, 2842, 1034, 383],\n",
       " [2841, 1320, 4, 70, 676, 6, 2842, 1034, 383, 2843],\n",
       " [1320, 4, 70, 676, 6, 2842, 1034, 383, 2843, 225],\n",
       " [4, 70, 676, 6, 2842, 1034, 383, 2843, 225, 677],\n",
       " [70, 676, 6, 2842, 1034, 383, 2843, 225, 677, 6],\n",
       " [676, 6, 2842, 1034, 383, 2843, 225, 677, 6, 70],\n",
       " [6, 2842, 1034, 383, 2843, 225, 677, 6, 70, 436],\n",
       " [2842, 1034, 383, 2843, 225, 677, 6, 70, 436, 486],\n",
       " [1034, 383, 2843, 225, 677, 6, 70, 436, 486, 2844],\n",
       " [383, 2843, 225, 677, 6, 70, 436, 486, 2844, 2],\n",
       " [2843, 225, 677, 6, 70, 436, 486, 2844, 2, 1321],\n",
       " [225, 677, 6, 70, 436, 486, 2844, 2, 1321, 1322],\n",
       " [677, 6, 70, 436, 486, 2844, 2, 1321, 1322, 5],\n",
       " [6, 70, 436, 486, 2844, 2, 1321, 1322, 5, 2845],\n",
       " [70, 436, 486, 2844, 2, 1321, 1322, 5, 2845, 84],\n",
       " [436, 486, 2844, 2, 1321, 1322, 5, 2845, 84, 1035]]"
      ]
     },
     "execution_count": 113,
     "metadata": {},
     "output_type": "execute_result"
    }
   ],
   "source": [
    "whole_data[0:20]"
   ]
  },
  {
   "cell_type": "code",
   "execution_count": 114,
   "metadata": {
    "collapsed": false
   },
   "outputs": [
    {
     "data": {
      "text/plain": [
       "[0, 0, 0, 0, 0, 0, 0, 0, 1, 0, 0, 0, 0, 0, 0, 0, 0, 0, 0, 0]"
      ]
     },
     "execution_count": 114,
     "metadata": {},
     "output_type": "execute_result"
    }
   ],
   "source": [
    "whole_labels[0:20]"
   ]
  },
  {
   "cell_type": "code",
   "execution_count": 115,
   "metadata": {
    "collapsed": false
   },
   "outputs": [
    {
     "data": {
      "text/plain": [
       "10"
      ]
     },
     "execution_count": 115,
     "metadata": {},
     "output_type": "execute_result"
    }
   ],
   "source": [
    "maxlen"
   ]
  },
  {
   "cell_type": "code",
   "execution_count": 116,
   "metadata": {
    "collapsed": true
   },
   "outputs": [],
   "source": [
    "X = pad_sequences(whole_data,maxlen=maxlen)\n",
    "Y = np_utils.to_categorical(whole_labels)"
   ]
  },
  {
   "cell_type": "code",
   "execution_count": 117,
   "metadata": {
    "collapsed": false
   },
   "outputs": [
    {
     "data": {
      "text/plain": [
       "(array([[   0,    0,    0,    0,    0, 2841, 1320,    4,   70,  676],\n",
       "        [   0,    0,    0,    0, 2841, 1320,    4,   70,  676,    6],\n",
       "        [   0,    0,    0, 2841, 1320,    4,   70,  676,    6, 2842],\n",
       "        [   0,    0, 2841, 1320,    4,   70,  676,    6, 2842, 1034],\n",
       "        [   0, 2841, 1320,    4,   70,  676,    6, 2842, 1034,  383],\n",
       "        [2841, 1320,    4,   70,  676,    6, 2842, 1034,  383, 2843],\n",
       "        [1320,    4,   70,  676,    6, 2842, 1034,  383, 2843,  225],\n",
       "        [   4,   70,  676,    6, 2842, 1034,  383, 2843,  225,  677],\n",
       "        [  70,  676,    6, 2842, 1034,  383, 2843,  225,  677,    6],\n",
       "        [ 676,    6, 2842, 1034,  383, 2843,  225,  677,    6,   70]], dtype=int32),\n",
       " array([[ 1.,  0.,  0.,  0.,  0.,  0.,  0.,  0.,  0.,  0.,  0.,  0.,  0.,\n",
       "          0.,  0.,  0.,  0.,  0.,  0.,  0.,  0.,  0.,  0.,  0.,  0.,  0.,\n",
       "          0.,  0.,  0.,  0.,  0.,  0.,  0.,  0.,  0.,  0.,  0.,  0.,  0.],\n",
       "        [ 1.,  0.,  0.,  0.,  0.,  0.,  0.,  0.,  0.,  0.,  0.,  0.,  0.,\n",
       "          0.,  0.,  0.,  0.,  0.,  0.,  0.,  0.,  0.,  0.,  0.,  0.,  0.,\n",
       "          0.,  0.,  0.,  0.,  0.,  0.,  0.,  0.,  0.,  0.,  0.,  0.,  0.],\n",
       "        [ 1.,  0.,  0.,  0.,  0.,  0.,  0.,  0.,  0.,  0.,  0.,  0.,  0.,\n",
       "          0.,  0.,  0.,  0.,  0.,  0.,  0.,  0.,  0.,  0.,  0.,  0.,  0.,\n",
       "          0.,  0.,  0.,  0.,  0.,  0.,  0.,  0.,  0.,  0.,  0.,  0.,  0.],\n",
       "        [ 1.,  0.,  0.,  0.,  0.,  0.,  0.,  0.,  0.,  0.,  0.,  0.,  0.,\n",
       "          0.,  0.,  0.,  0.,  0.,  0.,  0.,  0.,  0.,  0.,  0.,  0.,  0.,\n",
       "          0.,  0.,  0.,  0.,  0.,  0.,  0.,  0.,  0.,  0.,  0.,  0.,  0.],\n",
       "        [ 1.,  0.,  0.,  0.,  0.,  0.,  0.,  0.,  0.,  0.,  0.,  0.,  0.,\n",
       "          0.,  0.,  0.,  0.,  0.,  0.,  0.,  0.,  0.,  0.,  0.,  0.,  0.,\n",
       "          0.,  0.,  0.,  0.,  0.,  0.,  0.,  0.,  0.,  0.,  0.,  0.,  0.],\n",
       "        [ 1.,  0.,  0.,  0.,  0.,  0.,  0.,  0.,  0.,  0.,  0.,  0.,  0.,\n",
       "          0.,  0.,  0.,  0.,  0.,  0.,  0.,  0.,  0.,  0.,  0.,  0.,  0.,\n",
       "          0.,  0.,  0.,  0.,  0.,  0.,  0.,  0.,  0.,  0.,  0.,  0.,  0.],\n",
       "        [ 1.,  0.,  0.,  0.,  0.,  0.,  0.,  0.,  0.,  0.,  0.,  0.,  0.,\n",
       "          0.,  0.,  0.,  0.,  0.,  0.,  0.,  0.,  0.,  0.,  0.,  0.,  0.,\n",
       "          0.,  0.,  0.,  0.,  0.,  0.,  0.,  0.,  0.,  0.,  0.,  0.,  0.],\n",
       "        [ 1.,  0.,  0.,  0.,  0.,  0.,  0.,  0.,  0.,  0.,  0.,  0.,  0.,\n",
       "          0.,  0.,  0.,  0.,  0.,  0.,  0.,  0.,  0.,  0.,  0.,  0.,  0.,\n",
       "          0.,  0.,  0.,  0.,  0.,  0.,  0.,  0.,  0.,  0.,  0.,  0.,  0.],\n",
       "        [ 0.,  1.,  0.,  0.,  0.,  0.,  0.,  0.,  0.,  0.,  0.,  0.,  0.,\n",
       "          0.,  0.,  0.,  0.,  0.,  0.,  0.,  0.,  0.,  0.,  0.,  0.,  0.,\n",
       "          0.,  0.,  0.,  0.,  0.,  0.,  0.,  0.,  0.,  0.,  0.,  0.,  0.],\n",
       "        [ 1.,  0.,  0.,  0.,  0.,  0.,  0.,  0.,  0.,  0.,  0.,  0.,  0.,\n",
       "          0.,  0.,  0.,  0.,  0.,  0.,  0.,  0.,  0.,  0.,  0.,  0.,  0.,\n",
       "          0.,  0.,  0.,  0.,  0.,  0.,  0.,  0.,  0.,  0.,  0.,  0.,  0.]]))"
      ]
     },
     "execution_count": 117,
     "metadata": {},
     "output_type": "execute_result"
    }
   ],
   "source": [
    "X[0:10],Y[0:10]"
   ]
  },
  {
   "cell_type": "code",
   "execution_count": 198,
   "metadata": {
    "collapsed": true
   },
   "outputs": [],
   "source": [
    "Xtrain, Xtest, Ytrain, Ytest = train_test_split(X,Y,test_size = 0.1, random_state=42)"
   ]
  },
  {
   "cell_type": "code",
   "execution_count": 118,
   "metadata": {
    "collapsed": true
   },
   "outputs": [],
   "source": [
    "data = {}\n",
    "for x,y in zip(X,Y):\n",
    "    index = np.argmax(y)\n",
    "    if index not in data:\n",
    "        data[index] = [(x,y)]\n",
    "    else:\n",
    "        data[index] += [(x,y)]\n",
    "    "
   ]
  },
  {
   "cell_type": "code",
   "execution_count": 119,
   "metadata": {
    "collapsed": true
   },
   "outputs": [],
   "source": [
    "src_model = Sequential()\n",
    "src_model.add(Embedding(vocab_size, EMBED_SIZE, input_length=maxlen,trainable=False,weights=[embeddings]))\n",
    "dst_model = Sequential()\n",
    "dst_model.add(Embedding(maxlen, 50, input_length=maxlen))"
   ]
  },
  {
   "cell_type": "code",
   "execution_count": 120,
   "metadata": {
    "collapsed": true
   },
   "outputs": [],
   "source": [
    "Xtrain = []\n",
    "Ytrain = []\n",
    "Xtest = []\n",
    "Ytest = []\n",
    "\n",
    "for index in data:\n",
    "    curr = data[index]\n",
    "    leng = len(curr)\n",
    "#    trainx = []\n",
    "#    trainy = []\n",
    "#    testx = []\n",
    "#    testy = []\n",
    "    for i in range(int(0.8*leng)):\n",
    "        Xtrain.append(curr[i][0])\n",
    "        Ytrain.append(curr[i][1])\n",
    "    for i in range(int(0.8*leng),leng):\n",
    "        Xtest.append(curr[i][0])\n",
    "        Ytest.append(curr[i][1])\n",
    "        \n",
    "        \n",
    "        "
   ]
  },
  {
   "cell_type": "code",
   "execution_count": 121,
   "metadata": {
    "collapsed": true
   },
   "outputs": [],
   "source": [
    "import random\n",
    "combined = list(zip(Xtrain, Ytrain))\n",
    "random.shuffle(combined)\n",
    "\n",
    "Xtrain[:], Ytrain[:] = zip(*combined)"
   ]
  },
  {
   "cell_type": "code",
   "execution_count": 122,
   "metadata": {
    "collapsed": true
   },
   "outputs": [],
   "source": [
    "Xtrain = np.array(Xtrain)\n",
    "Ytrain = np.array(Ytrain)"
   ]
  },
  {
   "cell_type": "code",
   "execution_count": 123,
   "metadata": {
    "collapsed": true
   },
   "outputs": [],
   "source": [
    "Xtest = np.array(Xtest)\n",
    "Ytest = np.array(Ytest)"
   ]
  },
  {
   "cell_type": "code",
   "execution_count": 124,
   "metadata": {
    "collapsed": false
   },
   "outputs": [
    {
     "name": "stderr",
     "output_type": "stream",
     "text": [
      "/home/siddharth/anaconda3/lib/python3.6/site-packages/ipykernel_launcher.py:4: UserWarning: The `Merge` layer is deprecated and will be removed after 08/2017. Use instead layers from `keras.layers.merge`, e.g. `add`, `concatenate`, etc.\n",
      "  after removing the cwd from sys.path.\n"
     ]
    }
   ],
   "source": [
    "model = Sequential()\n",
    "#model.add(Embedding(vocab_size,EMBED_SIZE,input_length=maxlen,weights=[embeddings],trainable=False))\n",
    "from keras.layers import Merge\n",
    "model.add(Merge([src_model, dst_model], mode='concat',concat_axis=-1))\n",
    "#model.add(SpatialDropout1D(0.5))\n",
    "model.add(Conv1D(filters=1200,kernel_size=NUM_WORDS,activation=\"relu\"))\n",
    "model.add(GlobalMaxPooling1D())\n",
    "model.add(Dropout(0.5))\n",
    "model.add(Dense(39,activation=\"softmax\"))"
   ]
  },
  {
   "cell_type": "code",
   "execution_count": 64,
   "metadata": {
    "collapsed": true
   },
   "outputs": [],
   "source": [
    "x1 = list(range(0,10))\n",
    "x1 = [x1]*(len(Xtrain)+len(Xtest))\n",
    "x1 = np.array(x1)"
   ]
  },
  {
   "cell_type": "code",
   "execution_count": 65,
   "metadata": {
    "collapsed": false
   },
   "outputs": [
    {
     "data": {
      "text/plain": [
       "array([[0, 1, 2, ..., 7, 8, 9],\n",
       "       [0, 1, 2, ..., 7, 8, 9],\n",
       "       [0, 1, 2, ..., 7, 8, 9],\n",
       "       ..., \n",
       "       [0, 1, 2, ..., 7, 8, 9],\n",
       "       [0, 1, 2, ..., 7, 8, 9],\n",
       "       [0, 1, 2, ..., 7, 8, 9]])"
      ]
     },
     "execution_count": 65,
     "metadata": {},
     "output_type": "execute_result"
    }
   ],
   "source": [
    "x1"
   ]
  },
  {
   "cell_type": "code",
   "execution_count": 125,
   "metadata": {
    "collapsed": false
   },
   "outputs": [
    {
     "name": "stdout",
     "output_type": "stream",
     "text": [
      "Train on 27763 samples, validate on 6957 samples\n",
      "Epoch 1/10\n",
      "27763/27763 [==============================] - 33s - loss: 0.3306 - acc: 0.9461 - val_loss: 0.2374 - val_acc: 0.9503\n",
      "Epoch 2/10\n",
      "27763/27763 [==============================] - 35s - loss: 0.1498 - acc: 0.9602 - val_loss: 0.2119 - val_acc: 0.9556\n",
      "Epoch 3/10\n",
      "27763/27763 [==============================] - 34s - loss: 0.0949 - acc: 0.9729 - val_loss: 0.2074 - val_acc: 0.9553\n",
      "Epoch 4/10\n",
      "27763/27763 [==============================] - 34s - loss: 0.0661 - acc: 0.9786 - val_loss: 0.2103 - val_acc: 0.9577\n",
      "Epoch 5/10\n",
      "27763/27763 [==============================] - 35s - loss: 0.0561 - acc: 0.9822 - val_loss: 0.2323 - val_acc: 0.9585\n",
      "Epoch 6/10\n",
      "27763/27763 [==============================] - 36s - loss: 0.0423 - acc: 0.9863 - val_loss: 0.2448 - val_acc: 0.9582\n",
      "Epoch 7/10\n",
      "27763/27763 [==============================] - 34s - loss: 0.0387 - acc: 0.9890 - val_loss: 0.2797 - val_acc: 0.9566\n",
      "Epoch 8/10\n",
      "27763/27763 [==============================] - 35s - loss: 0.0321 - acc: 0.9900 - val_loss: 0.2875 - val_acc: 0.9530\n",
      "Epoch 9/10\n",
      "27763/27763 [==============================] - 34s - loss: 0.0324 - acc: 0.9895 - val_loss: 0.2883 - val_acc: 0.9526\n",
      "Epoch 10/10\n",
      "27763/27763 [==============================] - 36s - loss: 0.0293 - acc: 0.9918 - val_loss: 0.2763 - val_acc: 0.9580\n"
     ]
    }
   ],
   "source": [
    "from keras import metrics\n",
    "model.compile(loss=\"categorical_crossentropy\",optimizer=\"adam\",metrics=[\"accuracy\"])\n",
    "history = model.fit(x=[Xtrain,x1[:len(Xtrain)]],y=Ytrain,batch_size=BATCH_SIZE,epochs=10,shuffle=True,validation_data=([Xtest,x1[len(Xtrain):]],Ytest))\n",
    "#a = model.predict(Xtest)"
   ]
  },
  {
   "cell_type": "code",
   "execution_count": 126,
   "metadata": {
    "collapsed": false
   },
   "outputs": [
    {
     "name": "stdout",
     "output_type": "stream",
     "text": [
      "_________________________________________________________________\n",
      "Layer (type)                 Output Shape              Param #   \n",
      "=================================================================\n",
      "merge_6 (Merge)              (None, 10, 350)           0         \n",
      "_________________________________________________________________\n",
      "conv1d_6 (Conv1D)            (None, 8, 1200)           1261200   \n",
      "_________________________________________________________________\n",
      "global_max_pooling1d_6 (Glob (None, 1200)              0         \n",
      "_________________________________________________________________\n",
      "dropout_5 (Dropout)          (None, 1200)              0         \n",
      "_________________________________________________________________\n",
      "dense_6 (Dense)              (None, 39)                46839     \n",
      "=================================================================\n",
      "Total params: 3,142,739\n",
      "Trainable params: 1,308,539\n",
      "Non-trainable params: 1,834,200\n",
      "_________________________________________________________________\n"
     ]
    }
   ],
   "source": [
    "model.summary()"
   ]
  },
  {
   "cell_type": "code",
   "execution_count": 127,
   "metadata": {
    "collapsed": false
   },
   "outputs": [
    {
     "data": {
      "text/plain": [
       "array([  9.99991894e-01,   2.05105923e-08,   3.05658219e-08,\n",
       "         2.32493380e-09,   5.17462080e-11,   2.02266790e-08,\n",
       "         1.24838362e-10,   2.39948550e-09,   3.04735848e-10,\n",
       "         6.96858524e-06,   1.52979573e-11,   1.17956755e-10,\n",
       "         5.20895355e-07,   5.16014922e-12,   4.99033731e-11,\n",
       "         5.33848844e-13,   2.75524026e-09,   1.71357858e-10,\n",
       "         1.63002785e-08,   7.36253836e-10,   1.28240117e-07,\n",
       "         7.44221698e-12,   6.49578169e-10,   9.12887613e-11,\n",
       "         4.80671414e-09,   3.68737290e-07,   4.97078934e-10,\n",
       "         3.42541107e-08,   1.21160526e-10,   5.32976441e-11,\n",
       "         1.59941962e-10,   3.57339193e-11,   2.28267072e-10,\n",
       "         2.61486588e-09,   3.83009206e-12,   1.18939784e-13,\n",
       "         1.94351743e-10,   4.08784617e-10,   4.73061521e-12], dtype=float32)"
      ]
     },
     "execution_count": 127,
     "metadata": {},
     "output_type": "execute_result"
    }
   ],
   "source": [
    "a = model.predict(x = [Xtest,x1[len(Xtrain):]])\n",
    "#a = np.argmax(a,axis=1)\n",
    "a[0]"
   ]
  },
  {
   "cell_type": "code",
   "execution_count": 128,
   "metadata": {
    "collapsed": false
   },
   "outputs": [
    {
     "name": "stdout",
     "output_type": "stream",
     "text": [
      "[  9.99999642e-01   1.58635960e-09   7.99174338e-11   3.68040251e-11\n",
      "   1.62056521e-10   4.07214089e-11   1.52953428e-10   8.23392465e-11\n",
      "   3.43105888e-13   2.32682396e-07   6.26998930e-12   1.45222750e-10\n",
      "   5.39068630e-08   1.37853691e-13   4.76008393e-13   3.30081286e-13\n",
      "   6.05558355e-12   7.50505387e-12   3.10925140e-11   7.04408146e-12\n",
      "   6.59372390e-10   2.57144323e-11   1.17544030e-09   3.17993930e-11\n",
      "   2.15498938e-11   5.12833118e-08   3.40447844e-11   2.08378606e-10\n",
      "   7.37445001e-12   3.52073128e-11   4.50982272e-11   1.07899703e-12\n",
      "   1.48180756e-11   4.17615803e-11   1.70055891e-13   4.17687282e-12\n",
      "   1.73402091e-12   4.87486483e-12   1.07534814e-12]\n"
     ]
    }
   ],
   "source": [
    "np.argmax(a[100])\n",
    "print(a[100])"
   ]
  },
  {
   "cell_type": "code",
   "execution_count": 129,
   "metadata": {
    "collapsed": true
   },
   "outputs": [],
   "source": [
    "ytest = np.argmax(Ytest,axis=1)"
   ]
  },
  {
   "cell_type": "code",
   "execution_count": 130,
   "metadata": {
    "collapsed": true
   },
   "outputs": [],
   "source": [
    "len(x1[len(Xtrain):]) == len(Xtest)\n",
    "a = np.argmax(a,axis=1)"
   ]
  },
  {
   "cell_type": "code",
   "execution_count": 136,
   "metadata": {
    "collapsed": false
   },
   "outputs": [
    {
     "name": "stdout",
     "output_type": "stream",
     "text": [
      "NONE --> 0.981283666583\n",
      "transferownership --> 0.28570993203\n",
      "arrestjail --> 0.555550262391\n",
      "releaseparole --> 0.842099390612\n",
      "attack --> 0.606055427038\n",
      "transportperson --> 0.474571123293\n",
      "transportartifact --> 0.0\n",
      "trialhearing --> 0.521734139926\n",
      "extradite --> 0.0\n",
      "broadcast --> 0.24242042246\n",
      "convict --> 0.761899047652\n",
      "transaction --> 0.333327777837\n",
      "contact --> 0.0689609515439\n",
      "acquit --> 0.0\n",
      "die --> 0.551719096357\n",
      "injure --> 0.444439012401\n",
      "divorce --> 0.285708571514\n",
      "chargeindict --> 0.545449421527\n",
      "endposition --> 0.624994785194\n",
      "pardon --> 0.933327111139\n",
      "correspondence --> 0.222218271653\n",
      "sentence --> 0.8965461118\n",
      "appeal --> 0.666659444489\n",
      "demonstrate --> 0.428566734731\n",
      "meet --> 0.315785263204\n",
      "transfermoney --> 0.540535339709\n",
      "elect --> 0.46153278112\n",
      "startposition --> 0.285708877639\n",
      "startorg --> 0.0\n",
      "sue --> 0.0\n",
      "declarebankruptcy --> 0.0\n",
      "marry --> 0.0\n",
      "nominate --> 0.199994600126\n",
      "fine --> 0.749993125038\n",
      "endorg --> 0.66665777783\n",
      "execute --> 0.0\n",
      "beborn --> 0.0\n",
      "mergeorg --> 0.499993750028\n",
      "artifact --> 0.0\n",
      "NONE -----> [6691 6563 6503]\n",
      "transferownership -----> [ 6 15  3]\n",
      "arrestjail -----> [19 17 10]\n",
      "releaseparole -----> [ 9 10  8]\n",
      "attack -----> [32 34 20]\n",
      "transportperson -----> [28 31 14]\n",
      "transportartifact -----> [0 4 0]\n",
      "trialhearing -----> [ 8 15  6]\n",
      "extradite -----> [0 3 0]\n",
      "broadcast -----> [ 8 25  4]\n",
      "convict -----> [10 11  8]\n",
      "transaction -----> [2 4 1]\n",
      "contact -----> [10 19  1]\n",
      "acquit -----> [0 3 0]\n",
      "die -----> [24 34 16]\n",
      "injure -----> [ 8 10  4]\n",
      "divorce -----> [3 4 1]\n",
      "chargeindict -----> [ 8 14  6]\n",
      "endposition -----> [13 19 10]\n",
      "pardon -----> [7 8 7]\n",
      "correspondence -----> [2 7 1]\n",
      "sentence -----> [15 14 13]\n",
      "appeal -----> [3 3 2]\n",
      "demonstrate -----> [ 4 10  3]\n",
      "meet -----> [ 5 14  3]\n",
      "transfermoney -----> [16 21 10]\n",
      "elect -----> [6 7 3]\n",
      "startposition -----> [7 7 2]\n",
      "startorg -----> [0 3 0]\n",
      "sue -----> [0 3 0]\n",
      "declarebankruptcy -----> [0 1 0]\n",
      "marry -----> [0 4 0]\n",
      "nominate -----> [5 5 1]\n",
      "fine -----> [4 4 3]\n",
      "endorg -----> [1 2 1]\n",
      "execute -----> [2 3 0]\n",
      "beborn -----> [0 2 0]\n",
      "mergeorg -----> [1 3 1]\n",
      "artifact -----> [0 1 0]\n"
     ]
    }
   ],
   "source": [
    "\n",
    "table = np.zeros((39,3),dtype=\"int32\")\n",
    "#first -> total prediced\n",
    "#second -> total actual\n",
    "#third -> correct\n",
    "for c,d in zip(a,ytest):\n",
    "    table[c][0]+=1\n",
    "    table[d][1]+=1\n",
    "    if(c==d):\n",
    "        table[c][2]+=1\n",
    "for i ,element in enumerate(table):\n",
    "    p = element[2]*1.0/(element[0]+1e-5)\n",
    "    r = element[2]*1.0/(element[1]+1e-5)\n",
    "    f = 2*p*r/(p+r+1e-5)\n",
    "    print(index2label[i],\"-->\",f)\n",
    "for i,j in enumerate(table):\n",
    "    print(index2label[i],\"----->\",j)"
   ]
  },
  {
   "cell_type": "code",
   "execution_count": 74,
   "metadata": {
    "collapsed": true
   },
   "outputs": [],
   "source": [
    "#import keras.backend as K\n",
    "#def f_score(y_true,y_pred):\n"
   ]
  },
  {
   "cell_type": "code",
   "execution_count": 167,
   "metadata": {
    "collapsed": true
   },
   "outputs": [],
   "source": [
    "ytest = np.argmax(testy,axis=1)"
   ]
  },
  {
   "cell_type": "code",
   "execution_count": 88,
   "metadata": {
    "collapsed": false
   },
   "outputs": [
    {
     "data": {
      "text/plain": [
       "array([ 0,  0,  0, ...,  0,  0, 13])"
      ]
     },
     "execution_count": 88,
     "metadata": {},
     "output_type": "execute_result"
    }
   ],
   "source": [
    "ytest"
   ]
  },
  {
   "cell_type": "code",
   "execution_count": 95,
   "metadata": {
    "collapsed": false
   },
   "outputs": [
    {
     "data": {
      "text/plain": [
       "array([[10105,  9857,  9597],\n",
       "       [   12,    23,     1],\n",
       "       [    2,    24,     0],\n",
       "       [    5,    21,     2],\n",
       "       [   14,    44,     5],\n",
       "       [   30,    43,     2],\n",
       "       [    2,     9,     0],\n",
       "       [    2,    29,     0],\n",
       "       [    0,     3,     0],\n",
       "       [    8,    32,     0],\n",
       "       [   27,    15,     1],\n",
       "       [    3,     5,     0],\n",
       "       [    2,    30,     0],\n",
       "       [    0,     5,     0],\n",
       "       [   23,    47,     5],\n",
       "       [    9,    11,     0],\n",
       "       [    0,     5,     0],\n",
       "       [   29,    14,     1],\n",
       "       [   17,    26,     1],\n",
       "       [    9,     9,     2],\n",
       "       [    0,     9,     0],\n",
       "       [   47,    21,     8],\n",
       "       [    0,     2,     0],\n",
       "       [   12,    17,     1],\n",
       "       [    9,    22,     0],\n",
       "       [   28,    31,     2],\n",
       "       [    8,     9,     0],\n",
       "       [    2,    13,     0],\n",
       "       [    0,     5,     0],\n",
       "       [    0,     4,     0],\n",
       "       [    0,     0,     0],\n",
       "       [    1,     6,     0],\n",
       "       [    0,     6,     0],\n",
       "       [    7,     7,     0],\n",
       "       [    0,     2,     0],\n",
       "       [    0,     6,     0],\n",
       "       [    0,     2,     0],\n",
       "       [    3,     1,     0],\n",
       "       [    0,     1,     0]], dtype=int32)"
      ]
     },
     "execution_count": 95,
     "metadata": {},
     "output_type": "execute_result"
    }
   ],
   "source": [
    "table"
   ]
  },
  {
   "cell_type": "code",
   "execution_count": 203,
   "metadata": {
    "collapsed": true
   },
   "outputs": [],
   "source": [
    "?? Embedding"
   ]
  },
  {
   "cell_type": "code",
   "execution_count": 26,
   "metadata": {
    "collapsed": true
   },
   "outputs": [],
   "source": [
    "?? Dropout"
   ]
  },
  {
   "cell_type": "code",
   "execution_count": 70,
   "metadata": {
    "collapsed": true
   },
   "outputs": [],
   "source": [
    "?? Merge\n"
   ]
  },
  {
   "cell_type": "code",
   "execution_count": 44,
   "metadata": {
    "collapsed": true
   },
   "outputs": [],
   "source": [
    "?? Embedding"
   ]
  },
  {
   "cell_type": "code",
   "execution_count": 54,
   "metadata": {
    "collapsed": true
   },
   "outputs": [],
   "source": [
    "?? model.fit"
   ]
  },
  {
   "cell_type": "code",
   "execution_count": 99,
   "metadata": {
    "collapsed": false
   },
   "outputs": [
    {
     "data": {
      "text/plain": [
       "{'NONE': 0,\n",
       " 'business': 8,\n",
       " 'conflict': 3,\n",
       " 'contact': 5,\n",
       " 'justice': 2,\n",
       " 'life': 6,\n",
       " 'manufacture': 9,\n",
       " 'movement': 4,\n",
       " 'personnel': 7,\n",
       " 'transaction': 1}"
      ]
     },
     "execution_count": 99,
     "metadata": {},
     "output_type": "execute_result"
    }
   ],
   "source": [
    "label2index"
   ]
  },
  {
   "cell_type": "code",
   "execution_count": 133,
   "metadata": {
    "collapsed": true
   },
   "outputs": [],
   "source": [
    "index2label = {v:k for k,v in label2index.items()}"
   ]
  },
  {
   "cell_type": "code",
   "execution_count": 134,
   "metadata": {
    "collapsed": false
   },
   "outputs": [
    {
     "data": {
      "text/plain": [
       "{0: 'NONE',\n",
       " 1: 'transferownership',\n",
       " 2: 'arrestjail',\n",
       " 3: 'releaseparole',\n",
       " 4: 'attack',\n",
       " 5: 'transportperson',\n",
       " 6: 'transportartifact',\n",
       " 7: 'trialhearing',\n",
       " 8: 'extradite',\n",
       " 9: 'broadcast',\n",
       " 10: 'convict',\n",
       " 11: 'transaction',\n",
       " 12: 'contact',\n",
       " 13: 'acquit',\n",
       " 14: 'die',\n",
       " 15: 'injure',\n",
       " 16: 'divorce',\n",
       " 17: 'chargeindict',\n",
       " 18: 'endposition',\n",
       " 19: 'pardon',\n",
       " 20: 'correspondence',\n",
       " 21: 'sentence',\n",
       " 22: 'appeal',\n",
       " 23: 'demonstrate',\n",
       " 24: 'meet',\n",
       " 25: 'transfermoney',\n",
       " 26: 'elect',\n",
       " 27: 'startposition',\n",
       " 28: 'startorg',\n",
       " 29: 'sue',\n",
       " 30: 'declarebankruptcy',\n",
       " 31: 'marry',\n",
       " 32: 'nominate',\n",
       " 33: 'fine',\n",
       " 34: 'endorg',\n",
       " 35: 'execute',\n",
       " 36: 'beborn',\n",
       " 37: 'mergeorg',\n",
       " 38: 'artifact'}"
      ]
     },
     "execution_count": 134,
     "metadata": {},
     "output_type": "execute_result"
    }
   ],
   "source": [
    "index2label"
   ]
  },
  {
   "cell_type": "code",
   "execution_count": null,
   "metadata": {
    "collapsed": true
   },
   "outputs": [],
   "source": []
  }
 ],
 "metadata": {
  "anaconda-cloud": {},
  "kernelspec": {
   "display_name": "Python [default]",
   "language": "python",
   "name": "python2"
  },
  "language_info": {
   "codemirror_mode": {
    "name": "ipython",
    "version": 2
   },
   "file_extension": ".py",
   "mimetype": "text/x-python",
   "name": "python",
   "nbconvert_exporter": "python",
   "pygments_lexer": "ipython2",
   "version": "2.7.12"
  }
 },
 "nbformat": 4,
 "nbformat_minor": 2
}
